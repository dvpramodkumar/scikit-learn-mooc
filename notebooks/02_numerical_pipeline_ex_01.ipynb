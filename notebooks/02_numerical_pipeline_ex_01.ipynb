{
 "cells": [
  {
   "cell_type": "markdown",
   "id": "da8de1f1",
   "metadata": {},
   "source": [
    "# 📝 Exercise M1.03\n",
    "\n",
    "The goal of this exercise is to compare the generalization performance of our\n",
    "classifier (81% accuracy) to some baseline classifiers that would ignore the\n",
    "input data and instead make constant predictions.\n",
    "\n",
    "- What would be the score of a model that always predicts `' >50K'`?\n",
    "- What would be the score of a model that always predicts `' <=50K'`?\n",
    "- Is 81% or 82% accuracy a good score for this problem?\n",
    "\n",
    "Use a `DummyClassifier` and do a train-test split to evaluate\n",
    "its accuracy on the test set. This\n",
    "[link](https://scikit-learn.org/stable/modules/model_evaluation.html#dummy-estimators)\n",
    "shows a few examples of how to evaluate the generalization performance of these\n",
    "baseline models."
   ]
  },
  {
   "cell_type": "code",
   "execution_count": 1,
   "id": "2fdadabe",
   "metadata": {},
   "outputs": [],
   "source": [
    "import pandas as pd\n",
    "\n",
    "adult_census = pd.read_csv(\"../datasets/adult-census.csv\")"
   ]
  },
  {
   "cell_type": "markdown",
   "id": "93ab8df5",
   "metadata": {},
   "source": [
    "We will first split our dataset to have the target separated from the data\n",
    "used to train our predictive model."
   ]
  },
  {
   "cell_type": "code",
   "execution_count": 2,
   "id": "1b7f8ffb",
   "metadata": {},
   "outputs": [],
   "source": [
    "target_name = \"class\"\n",
    "target = adult_census[target_name]\n",
    "data = adult_census.drop(columns=target_name)"
   ]
  },
  {
   "cell_type": "markdown",
   "id": "743d5353",
   "metadata": {},
   "source": [
    "We start by selecting only the numerical columns as seen in the previous\n",
    "notebook."
   ]
  },
  {
   "cell_type": "code",
   "execution_count": 3,
   "id": "af7cdede",
   "metadata": {},
   "outputs": [],
   "source": [
    "numerical_columns = [\n",
    "    \"age\", \"capital-gain\", \"capital-loss\", \"hours-per-week\"]\n",
    "\n",
    "data_numeric = data[numerical_columns]"
   ]
  },
  {
   "cell_type": "markdown",
   "id": "82fba435",
   "metadata": {},
   "source": [
    "Next, let's split the data and target into a train and test set."
   ]
  },
  {
   "cell_type": "code",
   "execution_count": 4,
   "id": "2497adea",
   "metadata": {},
   "outputs": [],
   "source": [
    "from sklearn.model_selection import train_test_split\n",
    "\n",
    "data_numeric_train, data_numeric_test, target_train, target_test = \\\n",
    "    train_test_split(data_numeric, target, random_state=0)"
   ]
  },
  {
   "cell_type": "markdown",
   "id": "dad24c4b",
   "metadata": {
    "lines_to_next_cell": 0
   },
   "source": [
    "Split the dataset into a train and test sets."
   ]
  },
  {
   "cell_type": "code",
   "execution_count": 5,
   "id": "1e5b1320",
   "metadata": {
    "lines_to_next_cell": 2
   },
   "outputs": [],
   "source": [
    "from sklearn.model_selection import train_test_split\n",
    "\n",
    "data_train, data_test, target_train, target_test = train_test_split(\n",
    "    data_numeric, target, random_state=42, test_size=0.25)"
   ]
  },
  {
   "cell_type": "markdown",
   "id": "03e38976",
   "metadata": {},
   "source": [
    "Use a `DummyClassifier` such that the resulting classifier will always\n",
    "predict the class `' >50K'`. What is the accuracy score on the test set?\n",
    "Repeat the experiment by always predicting the class `' <=50K'`.\n",
    "\n",
    "Hint: you can refer to the parameter `strategy` of the `DummyClassifier`\n",
    "to achieve the desired behaviour."
   ]
  },
  {
   "cell_type": "code",
   "execution_count": 6,
   "id": "e373000f",
   "metadata": {},
   "outputs": [],
   "source": [
    "from sklearn.dummy import DummyClassifier\n",
    "\n",
    "dummy_model = DummyClassifier()"
   ]
  },
  {
   "cell_type": "code",
   "execution_count": 7,
   "id": "a8743c19",
   "metadata": {},
   "outputs": [
    {
     "data": {
      "text/plain": [
       "DummyClassifier()"
      ]
     },
     "execution_count": 7,
     "metadata": {},
     "output_type": "execute_result"
    }
   ],
   "source": [
    "dummy_model.fit(data_train, target_train)"
   ]
  },
  {
   "cell_type": "code",
   "execution_count": 8,
   "id": "ff173406",
   "metadata": {},
   "outputs": [
    {
     "name": "stdout",
     "output_type": "stream",
     "text": [
      "Accuracy of logistic regression: 0.766\n"
     ]
    }
   ],
   "source": [
    "accuracy = dummy_model.score(data_test, target_test)\n",
    "print(f\"Accuracy of logistic regression: {accuracy:.3f}\")"
   ]
  }
 ],
 "metadata": {
  "kernelspec": {
   "display_name": "Python 3",
   "language": "python",
   "name": "python3"
  },
  "language_info": {
   "codemirror_mode": {
    "name": "ipython",
    "version": 3
   },
   "file_extension": ".py",
   "mimetype": "text/x-python",
   "name": "python",
   "nbconvert_exporter": "python",
   "pygments_lexer": "ipython3",
   "version": "3.9.2"
  },
  "nbreset": "https://github.com/INRIA/scikit-learn-mooc/raw/master/notebooks/02_numerical_pipeline_ex_01.ipynb"
 },
 "nbformat": 4,
 "nbformat_minor": 5
}
