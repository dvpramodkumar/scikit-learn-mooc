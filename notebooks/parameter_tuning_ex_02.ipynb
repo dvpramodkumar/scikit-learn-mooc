{
 "cells": [
  {
   "cell_type": "markdown",
   "id": "b30125ea",
   "metadata": {},
   "source": [
    "# 📝 Exercise M3.01\n",
    "\n",
    "The goal is to write an exhaustive search to find the best parameters\n",
    "combination maximizing the model generalization performance.\n",
    "\n",
    "Here we use a small subset of the Adult Census dataset to make to code\n",
    "fast to execute. Once your code works on the small subset, try to\n",
    "change `train_size` to a larger value (e.g. 0.8 for 80% instead of\n",
    "20%)."
   ]
  },
  {
   "cell_type": "code",
   "execution_count": 1,
   "id": "cc81c30b",
   "metadata": {},
   "outputs": [],
   "source": [
    "import pandas as pd\n",
    "\n",
    "from sklearn.model_selection import train_test_split\n",
    "\n",
    "adult_census = pd.read_csv(\"../datasets/adult-census.csv\")\n",
    "\n",
    "target_name = \"class\"\n",
    "target = adult_census[target_name]\n",
    "data = adult_census.drop(columns=[target_name, \"education-num\"])\n",
    "\n",
    "data_train, data_test, target_train, target_test = train_test_split(\n",
    "    data, target, train_size=0.2, random_state=42)"
   ]
  },
  {
   "cell_type": "code",
   "execution_count": 2,
   "id": "5d550b90",
   "metadata": {},
   "outputs": [],
   "source": [
    "from sklearn.compose import ColumnTransformer\n",
    "from sklearn.compose import make_column_selector as selector\n",
    "from sklearn.preprocessing import OrdinalEncoder\n",
    "\n",
    "categorical_preprocessor = OrdinalEncoder(handle_unknown=\"use_encoded_value\",\n",
    "                                          unknown_value=-1)\n",
    "preprocessor = ColumnTransformer(\n",
    "    [('cat-preprocessor', categorical_preprocessor,\n",
    "      selector(dtype_include=object))],\n",
    "    remainder='passthrough', sparse_threshold=0)\n",
    "\n",
    "# This line is currently required to import HistGradientBoostingClassifier\n",
    "from sklearn.experimental import enable_hist_gradient_boosting\n",
    "from sklearn.ensemble import HistGradientBoostingClassifier\n",
    "from sklearn.pipeline import Pipeline\n",
    "\n",
    "model = Pipeline([\n",
    "    (\"preprocessor\", preprocessor),\n",
    "    (\"classifier\", HistGradientBoostingClassifier(random_state=42))\n",
    "])"
   ]
  },
  {
   "cell_type": "markdown",
   "id": "2c2eef20",
   "metadata": {},
   "source": [
    "\n",
    "Use the previously defined model (called `model`) and using two nested `for`\n",
    "loops, make a search of the best combinations of the `learning_rate` and\n",
    "`max_leaf_nodes` parameters. In this regard, you will need to train and test\n",
    "the model by setting the parameters. The evaluation of the model should be\n",
    "performed using `cross_val_score`. We will use the following parameters\n",
    "search:\n",
    "- `learning_rate` for the values 0.01, 0.1, 1 and 10. This parameter controls\n",
    "  the ability of a new tree to correct the error of the previous sequence of\n",
    "  trees\n",
    "- `max_leaf_nodes` for the values 3, 10, 30. This parameter controls the\n",
    "  depth of each tree."
   ]
  },
  {
   "cell_type": "code",
   "execution_count": 3,
   "id": "4f6abc00",
   "metadata": {},
   "outputs": [
    {
     "data": {
      "text/plain": [
       "{'memory': None,\n",
       " 'steps': [('preprocessor',\n",
       "   ColumnTransformer(remainder='passthrough', sparse_threshold=0,\n",
       "                     transformers=[('cat-preprocessor',\n",
       "                                    OrdinalEncoder(handle_unknown='use_encoded_value',\n",
       "                                                   unknown_value=-1),\n",
       "                                    <sklearn.compose._column_transformer.make_column_selector object at 0x7fb3befcebb0>)])),\n",
       "  ('classifier', HistGradientBoostingClassifier(random_state=42))],\n",
       " 'verbose': False,\n",
       " 'preprocessor': ColumnTransformer(remainder='passthrough', sparse_threshold=0,\n",
       "                   transformers=[('cat-preprocessor',\n",
       "                                  OrdinalEncoder(handle_unknown='use_encoded_value',\n",
       "                                                 unknown_value=-1),\n",
       "                                  <sklearn.compose._column_transformer.make_column_selector object at 0x7fb3befcebb0>)]),\n",
       " 'classifier': HistGradientBoostingClassifier(random_state=42),\n",
       " 'preprocessor__n_jobs': None,\n",
       " 'preprocessor__remainder': 'passthrough',\n",
       " 'preprocessor__sparse_threshold': 0,\n",
       " 'preprocessor__transformer_weights': None,\n",
       " 'preprocessor__transformers': [('cat-preprocessor',\n",
       "   OrdinalEncoder(handle_unknown='use_encoded_value', unknown_value=-1),\n",
       "   <sklearn.compose._column_transformer.make_column_selector at 0x7fb3befcebb0>)],\n",
       " 'preprocessor__verbose': False,\n",
       " 'preprocessor__cat-preprocessor': OrdinalEncoder(handle_unknown='use_encoded_value', unknown_value=-1),\n",
       " 'preprocessor__cat-preprocessor__categories': 'auto',\n",
       " 'preprocessor__cat-preprocessor__dtype': numpy.float64,\n",
       " 'preprocessor__cat-preprocessor__handle_unknown': 'use_encoded_value',\n",
       " 'preprocessor__cat-preprocessor__unknown_value': -1,\n",
       " 'classifier__categorical_features': None,\n",
       " 'classifier__early_stopping': 'auto',\n",
       " 'classifier__l2_regularization': 0.0,\n",
       " 'classifier__learning_rate': 0.1,\n",
       " 'classifier__loss': 'auto',\n",
       " 'classifier__max_bins': 255,\n",
       " 'classifier__max_depth': None,\n",
       " 'classifier__max_iter': 100,\n",
       " 'classifier__max_leaf_nodes': 31,\n",
       " 'classifier__min_samples_leaf': 20,\n",
       " 'classifier__monotonic_cst': None,\n",
       " 'classifier__n_iter_no_change': 10,\n",
       " 'classifier__random_state': 42,\n",
       " 'classifier__scoring': 'loss',\n",
       " 'classifier__tol': 1e-07,\n",
       " 'classifier__validation_fraction': 0.1,\n",
       " 'classifier__verbose': 0,\n",
       " 'classifier__warm_start': False}"
      ]
     },
     "execution_count": 3,
     "metadata": {},
     "output_type": "execute_result"
    }
   ],
   "source": [
    "model.get_params()"
   ]
  },
  {
   "cell_type": "code",
   "execution_count": 4,
   "id": "3632f174",
   "metadata": {},
   "outputs": [
    {
     "name": "stdout",
     "output_type": "stream",
     "text": [
      "Accuracy score via cross-validation with LR=0.01 and Nodes=3\n",
      "0.799 +/- 0.001\n",
      "Accuracy score via cross-validation with LR=0.01 and Nodes=10\n",
      "0.820 +/- 0.002\n",
      "Accuracy score via cross-validation with LR=0.01 and Nodes=30\n",
      "0.848 +/- 0.002\n",
      "Accuracy score via cross-validation with LR=0.1 and Nodes=3\n",
      "0.856 +/- 0.003\n",
      "Accuracy score via cross-validation with LR=0.1 and Nodes=10\n",
      "0.870 +/- 0.001\n",
      "Accuracy score via cross-validation with LR=0.1 and Nodes=30\n",
      "0.874 +/- 0.002\n",
      "Accuracy score via cross-validation with LR=1 and Nodes=3\n",
      "0.870 +/- 0.003\n",
      "Accuracy score via cross-validation with LR=1 and Nodes=10\n",
      "0.867 +/- 0.002\n",
      "Accuracy score via cross-validation with LR=1 and Nodes=30\n",
      "0.860 +/- 0.005\n",
      "Accuracy score via cross-validation with LR=10 and Nodes=3\n",
      "0.281 +/- 0.004\n",
      "Accuracy score via cross-validation with LR=10 and Nodes=10\n",
      "0.761 +/- 0.045\n",
      "Accuracy score via cross-validation with LR=10 and Nodes=30\n",
      "0.616 +/- 0.179\n"
     ]
    }
   ],
   "source": [
    "from sklearn.model_selection import cross_validate\n",
    "\n",
    "lr = [0.01, 0.1, 1, 10]\n",
    "nodes = [3, 10, 30]\n",
    "\n",
    "for i in lr:\n",
    "    for j in nodes:\n",
    "        model.set_params(classifier__learning_rate = i)\n",
    "        model.set_params(classifier__max_leaf_nodes = j)\n",
    "        \n",
    "        cv_results = cross_validate(model, data, target)\n",
    "        scores = cv_results[\"test_score\"]\n",
    "        print(f\"Accuracy score via cross-validation with LR={i} and Nodes={j}\\n\"\n",
    "          f\"{scores.mean():.3f} +/- {scores.std():.3f}\")     "
   ]
  },
  {
   "cell_type": "markdown",
   "id": "d7d4ed2a",
   "metadata": {},
   "source": [
    "The highest accuracy is obtained when the learning-rate is 0.1 and the max_leaf_nodes are 30."
   ]
  }
 ],
 "metadata": {
  "kernelspec": {
   "display_name": "Python 3",
   "language": "python",
   "name": "python3"
  },
  "language_info": {
   "codemirror_mode": {
    "name": "ipython",
    "version": 3
   },
   "file_extension": ".py",
   "mimetype": "text/x-python",
   "name": "python",
   "nbconvert_exporter": "python",
   "pygments_lexer": "ipython3",
   "version": "3.9.2"
  },
  "nbreset": "https://github.com/INRIA/scikit-learn-mooc/raw/master/notebooks/parameter_tuning_ex_02.ipynb"
 },
 "nbformat": 4,
 "nbformat_minor": 5
}
